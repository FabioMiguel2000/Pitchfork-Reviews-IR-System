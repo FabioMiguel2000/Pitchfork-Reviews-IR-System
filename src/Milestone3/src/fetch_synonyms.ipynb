{
 "cells": [
  {
   "cell_type": "code",
   "execution_count": 1,
   "id": "ff5c2b25",
   "metadata": {},
   "outputs": [],
   "source": [
    "import pandas as pd\n",
    "from PyDictionary import PyDictionary\n",
    "\n",
    "reviews_with_only_keywords25_new = pd.read_json(\"reviews_with_only_keywords25_new.json\", orient='records')\n"
   ]
  },
  {
   "cell_type": "code",
   "execution_count": 2,
   "id": "be7bd1c1",
   "metadata": {},
   "outputs": [
    {
     "data": {
      "text/plain": [
       "0        [late, del, naja, hop, band, 3d, andy, man, tr...\n",
       "1        [band, barr, metal, post, mcmaster, winter, de...\n",
       "2        [punk, band, human, exploration, ep, scene, na...\n",
       "3        [punk, marder, scene, beri, early, chords, dru...\n",
       "4        [footwork, double, cup, rashad, way, start, tr...\n",
       "                               ...                        \n",
       "18412    [brand, equity, pale, new, money, product, goo...\n",
       "18413    [techno, sure, club, weeks, time, guys, dilige...\n",
       "18414    [martin, man, slowdive, steve, funny, laughter...\n",
       "18415    [sore-, jamming, review, sharp, drums, oppress...\n",
       "18416    [joke, dead, america, funnyman, routine, malay...\n",
       "Name: keywords, Length: 18417, dtype: object"
      ]
     },
     "execution_count": 2,
     "metadata": {},
     "output_type": "execute_result"
    }
   ],
   "source": [
    "reviews_with_only_keywords25_new['keywords']"
   ]
  },
  {
   "cell_type": "code",
   "execution_count": 3,
   "id": "d520ffcc",
   "metadata": {},
   "outputs": [],
   "source": [
    "import requests\n",
    "from bs4 import BeautifulSoup\n",
    "\n",
    "def synonyms(term):\n",
    "    response = requests.get('https://www.thesaurus.com/browse/{}'.format(term))\n",
    "    soup = BeautifulSoup(response.text, 'lxml')\n",
    "    soup.find('section', {'class': 'css-17ofzyv e1ccqdb60'})\n",
    "    return [span.text for span in soup.findAll('a', {'class': 'css-1kg1yv8 eh475bn0'})] # 'css-1gyuw4i eh475bn0' for less relevant synonyms\n"
   ]
  },
  {
   "cell_type": "code",
   "execution_count": null,
   "id": "bd259347",
   "metadata": {},
   "outputs": [
    {
     "name": "stdout",
     "output_type": "stream",
     "text": [
      "late\n",
      "['last-minute ', 'slow ', 'fresh ', 'recent ', 'old ', 'once ', 'past ', 'previous ', 'sometime ', 'slowly ']\n",
      "band\n",
      "['line ', 'ring ', 'tape ', 'bunch ', 'club ', 'collection ', 'company ', 'corps ', 'crew ', 'gang ', 'gathering ', 'party ', 'troop ', 'troupe ', 'ensemble ', 'orchestra ', 'symphony ', 'troupe ']\n",
      "man\n",
      "['brother ', 'chap ', 'dude ', 'father ', 'fellow ', 'guy ', 'husband ', 'son ']\n"
     ]
    }
   ],
   "source": [
    "i = 0;\n",
    "synonyms_list = []\n",
    "for keywords in reviews_with_only_keywords25_new['keywords']:\n",
    "    for keyword in keywords:\n",
    "        synonym = synonyms(keyword)\n",
    "        if(len(synonym) == 0):\n",
    "            continue\n",
    "        synonyms_list.append(synonym)\n"
   ]
  },
  {
   "cell_type": "code",
   "execution_count": 6,
   "id": "cb5e0e54",
   "metadata": {},
   "outputs": [
    {
     "data": {
      "text/plain": [
       "[]"
      ]
     },
     "execution_count": 6,
     "metadata": {},
     "output_type": "execute_result"
    }
   ],
   "source": [
    "synonyms(\"del\")"
   ]
  },
  {
   "cell_type": "code",
   "execution_count": null,
   "id": "7a9a8998",
   "metadata": {},
   "outputs": [],
   "source": []
  },
  {
   "cell_type": "code",
   "execution_count": null,
   "id": "3e4e4c76",
   "metadata": {},
   "outputs": [],
   "source": []
  },
  {
   "cell_type": "code",
   "execution_count": null,
   "id": "d01e5eac",
   "metadata": {},
   "outputs": [],
   "source": []
  }
 ],
 "metadata": {
  "kernelspec": {
   "display_name": "Python 3 (ipykernel)",
   "language": "python",
   "name": "python3"
  },
  "language_info": {
   "codemirror_mode": {
    "name": "ipython",
    "version": 3
   },
   "file_extension": ".py",
   "mimetype": "text/x-python",
   "name": "python",
   "nbconvert_exporter": "python",
   "pygments_lexer": "ipython3",
   "version": "3.11.0"
  }
 },
 "nbformat": 4,
 "nbformat_minor": 5
}
